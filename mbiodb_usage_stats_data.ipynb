{
 "cells": [
  {
   "cell_type": "code",
   "execution_count": 1,
   "id": "1c53c5ff-514f-4e10-b9c4-28cf031fa141",
   "metadata": {},
   "outputs": [],
   "source": [
    "# Imports\n",
    "import sqlalchemy\n",
    "from sqlalchemy import create_engine\n",
    "from sqlalchemy import text\n",
    "from sqlalchemy.engine import result\n",
    "from sqlalchemy import inspect\n",
    "import pandas as pd\n",
    "import datetime\n",
    "from datetime import datetime\n",
    "import numpy as np\n",
    "from dotenv import dotenv_values\n"
   ]
  },
  {
   "cell_type": "code",
   "execution_count": 2,
   "id": "89df43bb-aff2-4b01-b661-539f6649a404",
   "metadata": {},
   "outputs": [],
   "source": [
    "# Grab variables from .env and create engine for accessing the database\n",
    "\n",
    "config = dotenv_values(\".env\")\n",
    "\n",
    "user = config['DB_USER']\n",
    "password = config['DB_PASSWORD']\n",
    "host = config['HOST']\n",
    "port = config['PORT']\n",
    "database = config['DATABASE']\n",
    "remove_ids = config['REMOVE_IDS']\n",
    " \n",
    "\n",
    "engine = create_engine(f\"oracle+cx_oracle://{user}:{password}@{host}:{port}/?service_name={database}&encoding=UTF-8&nencoding=UTF-8\", echo=False)\n",
    "\n",
    "today_date = datetime.today().strftime('%m-%d-%Y')"
   ]
  },
  {
   "cell_type": "markdown",
   "id": "c801d07c",
   "metadata": {},
   "source": [
    "# Visualization/analysis data\n",
    "\n",
    "In the following we'll extract the visualizations and computations used per analysis using Oracle's `json_table` function, and save the output as a csv."
   ]
  },
  {
   "cell_type": "code",
   "execution_count": 3,
   "id": "1a05a23a-f3f6-458c-91ff-6e8c26e11033",
   "metadata": {},
   "outputs": [
    {
     "data": {
      "text/html": [
       "<div>\n",
       "<style scoped>\n",
       "    .dataframe tbody tr th:only-of-type {\n",
       "        vertical-align: middle;\n",
       "    }\n",
       "\n",
       "    .dataframe tbody tr th {\n",
       "        vertical-align: top;\n",
       "    }\n",
       "\n",
       "    .dataframe thead th {\n",
       "        text-align: right;\n",
       "    }\n",
       "</style>\n",
       "<table border=\"1\" class=\"dataframe\">\n",
       "  <thead>\n",
       "    <tr style=\"text-align: right;\">\n",
       "      <th></th>\n",
       "      <th>analysis_id</th>\n",
       "      <th>creation_day</th>\n",
       "      <th>computationtype</th>\n",
       "      <th>visualizationtype</th>\n",
       "    </tr>\n",
       "  </thead>\n",
       "  <tbody>\n",
       "    <tr>\n",
       "      <th>0</th>\n",
       "      <td>873cdtI</td>\n",
       "      <td>01-01-2024</td>\n",
       "      <td>betadiv</td>\n",
       "      <td>scatterplot</td>\n",
       "    </tr>\n",
       "    <tr>\n",
       "      <th>1</th>\n",
       "      <td>B5SbgsA</td>\n",
       "      <td>01-01-2024</td>\n",
       "      <td>None</td>\n",
       "      <td>None</td>\n",
       "    </tr>\n",
       "    <tr>\n",
       "      <th>2</th>\n",
       "      <td>neV8Byf</td>\n",
       "      <td>01-01-2024</td>\n",
       "      <td>betadiv</td>\n",
       "      <td>scatterplot</td>\n",
       "    </tr>\n",
       "    <tr>\n",
       "      <th>3</th>\n",
       "      <td>neV8Byf</td>\n",
       "      <td>01-01-2024</td>\n",
       "      <td>alphadiv</td>\n",
       "      <td>boxplot</td>\n",
       "    </tr>\n",
       "    <tr>\n",
       "      <th>4</th>\n",
       "      <td>neV8Byf</td>\n",
       "      <td>01-01-2024</td>\n",
       "      <td>betadiv</td>\n",
       "      <td>scatterplot</td>\n",
       "    </tr>\n",
       "  </tbody>\n",
       "</table>\n",
       "</div>"
      ],
      "text/plain": [
       "  analysis_id creation_day computationtype visualizationtype\n",
       "0     873cdtI   01-01-2024         betadiv       scatterplot\n",
       "1     B5SbgsA   01-01-2024            None              None\n",
       "2     neV8Byf   01-01-2024         betadiv       scatterplot\n",
       "3     neV8Byf   01-01-2024        alphadiv           boxplot\n",
       "4     neV8Byf   01-01-2024         betadiv       scatterplot"
      ]
     },
     "execution_count": 3,
     "metadata": {},
     "output_type": "execute_result"
    }
   ],
   "source": [
    "# Warning - this could take 25 min to run\n",
    "query = f\"\"\"\n",
    "  select eda.analysis_id\n",
    "    , to_char(eda.creation_time, 'DD-MM-yyyy') as creation_day\n",
    "    , analysis_descriptor_table.*\n",
    "    , eda.analysis_descriptor as analysis_descriptor_json\n",
    "  from edausermb.analysis eda,\n",
    "    json_table(eda.analysis_descriptor, '$'\n",
    "      columns (\n",
    "        nested path '$.computations[*]' columns (\n",
    "            computationType varchar2(50) path '$.descriptor.type',\n",
    "            nested path '$.visualizations[*]' columns (\n",
    "                visualizationType varchar2(50) path '$.descriptor.type'\n",
    "            )\n",
    "        )\n",
    "      )\n",
    "    ) analysis_descriptor_table\n",
    "  where eda.user_id not in ({remove_ids})\n",
    "  order by creation_day, eda.analysis_id\n",
    "\"\"\"\n",
    "\n",
    "sql = text(query)\n",
    "with engine.connect() as conn:\n",
    "    result = conn.execute(sql)\n",
    "    df = pd.DataFrame(result)\n",
    "\n",
    "df.head()"
   ]
  },
  {
   "cell_type": "code",
   "execution_count": 4,
   "id": "ce7593d5",
   "metadata": {},
   "outputs": [],
   "source": [
    "# Write to csv\n",
    "df.to_csv(f\"analysis_descriptor_table_{today_date}.csv\", index=False)"
   ]
  }
 ],
 "metadata": {
  "kernelspec": {
   "display_name": "Python 3 (ipykernel)",
   "language": "python",
   "name": "python3"
  },
  "language_info": {
   "codemirror_mode": {
    "name": "ipython",
    "version": 3
   },
   "file_extension": ".py",
   "mimetype": "text/x-python",
   "name": "python",
   "nbconvert_exporter": "python",
   "pygments_lexer": "ipython3",
   "version": "3.11.7"
  }
 },
 "nbformat": 4,
 "nbformat_minor": 5
}
